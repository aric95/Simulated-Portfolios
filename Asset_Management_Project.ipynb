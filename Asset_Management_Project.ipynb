{
 "cells": [
  {
   "cell_type": "markdown",
   "id": "e30f93e2",
   "metadata": {},
   "source": [
    "# Asset Management Project: Simulated Portfolios"
   ]
  },
  {
   "cell_type": "markdown",
   "id": "54692672",
   "metadata": {},
   "source": [
    "| Name | EID |\n",
    "| --- | --- |\n",
    "| Akshat Johari | aj32864 |\n",
    "| Aritra Chowdhury  | ac79277 |\n",
    "| Brandt Green | bwg537 |"
   ]
  },
  {
   "cell_type": "markdown",
   "id": "3aafc363",
   "metadata": {},
   "source": [
    "### Assumptions:\n",
    "* Risk free rate = 0\n",
    "* Trading cost = 0"
   ]
  },
  {
   "cell_type": "code",
   "execution_count": 1,
   "id": "67f3560e",
   "metadata": {},
   "outputs": [],
   "source": [
    "#import all the necessary packages\n",
    "import pandas as pd\n",
    "import numpy as np\n",
    "import matplotlib.pyplot as plt\n",
    "from matplotlib.pyplot import figure\n",
    "import wrds as wrds\n",
    "import warnings\n",
    "\n",
    "from scipy import stats\n",
    "from scipy.stats import skew, kurtosis\n",
    "import seaborn as sns; sns.set_theme()\n",
    "\n",
    "warnings.filterwarnings(action = 'ignore')"
   ]
  },
  {
   "cell_type": "markdown",
   "id": "935045bc",
   "metadata": {},
   "source": [
    "## Acquiring Data\n",
    "\n",
    "### Chosen ETFs to represent asset classes"
   ]
  },
  {
   "cell_type": "markdown",
   "id": "960b3231",
   "metadata": {},
   "source": [
    "| Asset Class | ETF | CRSP CUSIP |Further Info|\n",
    "| --- | --- | --- |---|\n",
    "| U.S. Market | Vanguard Total Stock Market ETF (VTI) | 92290876 | [VTI](https://etfdb.com/etf/VTI/#etf-ticker-profile)|\n",
    "| International Market | Vanguard FTSE Developed Markets ETF (VEA) | 92194385 | [IGOV](https://etfdb.com/etf/IGOV/#etf-ticker-profile)|\n",
    "| U.S. Bonds | iShares 3-7 Year Treasury Bond ETF (IEI) | 46428866 | [IEI](https://etfdb.com/etf/IEI/#etf-ticker-profile)|\n",
    "| International Bonds | iShares International Treasury Bond ETF (IGOV) | 46428811 | [VEA](https://etfdb.com/etf/VEA/#etf-ticker-profile)|\n",
    "| Other Asset Class (Commodities) | Invesco DB Commodity Index Tracking Fund (DBC) | 46138B10 | [DBC](https://etfdb.com/etf/DBC/#etf-ticker-profile)|"
   ]
  },
  {
   "cell_type": "markdown",
   "id": "4427e1b2",
   "metadata": {},
   "source": [
    "### Input the parameters to the simulation below:"
   ]
  },
  {
   "cell_type": "code",
   "execution_count": 2,
   "id": "64ee943d",
   "metadata": {},
   "outputs": [],
   "source": [
    "# Date Parameters\n",
    "start_date = '2010-12-31'\n",
    "end_date = '2020-12-31'\n",
    "\n",
    "# Ticker and Weight Parameters\n",
    "ticker_list = ['VTI', 'VEA', 'IEI', 'IGOV', 'DBC']\n",
    "target_weights = [0.3, 0.25, 0.2, 0.15, 0.1]\n",
    "\n",
    "# Rebalancing Frequency Parameter\n",
    "target_frequency = 'monthly'\n",
    "\n",
    "df_tickers = pd.DataFrame({'ticker': ticker_list, 'target_weight': target_weights})"
   ]
  },
  {
   "cell_type": "markdown",
   "id": "45a6adad",
   "metadata": {},
   "source": [
    "### Extract data from WRDS:"
   ]
  },
  {
   "cell_type": "code",
   "execution_count": 3,
   "id": "eb390d6e",
   "metadata": {},
   "outputs": [
    {
     "name": "stdout",
     "output_type": "stream",
     "text": [
      "Enter your WRDS username [aritr]:arichowdhury\n",
      "Enter your password:········\n",
      "WRDS recommends setting up a .pgpass file.\n",
      "Create .pgpass file now [y/n]?: y\n",
      "Created .pgpass file successfully.\n",
      "Loading library list...\n",
      "Done\n"
     ]
    }
   ],
   "source": [
    "# Connect to words. You'll need to input your username and password here.\n",
    "db = wrds.Connection()"
   ]
  },
  {
   "cell_type": "markdown",
   "id": "38707ed1",
   "metadata": {},
   "source": [
    "We extract CUSIP Numbers from input Tickers using this table from WRDS: [CRSP - Stock Names](https://wrds-www.wharton.upenn.edu/pages/get-data/center-research-security-prices-crsp/monthly-update/stock-events/names/)"
   ]
  },
  {
   "cell_type": "code",
   "execution_count": 4,
   "id": "3a920458",
   "metadata": {},
   "outputs": [],
   "source": [
    "tickers_wrds = \"'\" + \"','\".join(ticker_list) + \"'\"\n",
    "\n",
    "query_string = f\"\"\"SELECT nameenddt, cusip, ticker FROM crsp.stocknames WHERE ticker IN ({tickers_wrds})\"\"\"\n",
    "df_cusip_raw = db.raw_sql(query_string)"
   ]
  },
  {
   "cell_type": "code",
   "execution_count": 5,
   "id": "35770f04",
   "metadata": {},
   "outputs": [
    {
     "data": {
      "text/html": [
       "<div>\n",
       "<style scoped>\n",
       "    .dataframe tbody tr th:only-of-type {\n",
       "        vertical-align: middle;\n",
       "    }\n",
       "\n",
       "    .dataframe tbody tr th {\n",
       "        vertical-align: top;\n",
       "    }\n",
       "\n",
       "    .dataframe thead th {\n",
       "        text-align: right;\n",
       "    }\n",
       "</style>\n",
       "<table border=\"1\" class=\"dataframe\">\n",
       "  <thead>\n",
       "    <tr style=\"text-align: right;\">\n",
       "      <th></th>\n",
       "      <th>ticker</th>\n",
       "      <th>cusip</th>\n",
       "      <th>target_weight</th>\n",
       "    </tr>\n",
       "  </thead>\n",
       "  <tbody>\n",
       "    <tr>\n",
       "      <th>0</th>\n",
       "      <td>DBC</td>\n",
       "      <td>46138B10</td>\n",
       "      <td>0.10</td>\n",
       "    </tr>\n",
       "    <tr>\n",
       "      <th>1</th>\n",
       "      <td>IEI</td>\n",
       "      <td>46428866</td>\n",
       "      <td>0.20</td>\n",
       "    </tr>\n",
       "    <tr>\n",
       "      <th>2</th>\n",
       "      <td>IGOV</td>\n",
       "      <td>46428811</td>\n",
       "      <td>0.15</td>\n",
       "    </tr>\n",
       "    <tr>\n",
       "      <th>3</th>\n",
       "      <td>VEA</td>\n",
       "      <td>92194385</td>\n",
       "      <td>0.25</td>\n",
       "    </tr>\n",
       "    <tr>\n",
       "      <th>4</th>\n",
       "      <td>VTI</td>\n",
       "      <td>92290876</td>\n",
       "      <td>0.30</td>\n",
       "    </tr>\n",
       "  </tbody>\n",
       "</table>\n",
       "</div>"
      ],
      "text/plain": [
       "  ticker     cusip  target_weight\n",
       "0    DBC  46138B10           0.10\n",
       "1    IEI  46428866           0.20\n",
       "2   IGOV  46428811           0.15\n",
       "3    VEA  92194385           0.25\n",
       "4    VTI  92290876           0.30"
      ]
     },
     "execution_count": 5,
     "metadata": {},
     "output_type": "execute_result"
    }
   ],
   "source": [
    "# Copy data to keep the orginal data source intact\n",
    "df_cusip = df_cusip_raw.copy()\n",
    "df_cusip.sort_values(by = 'nameenddt', inplace = True)\n",
    "df_cusip = df_cusip.groupby('ticker').last().reset_index()[['ticker', 'cusip']]\n",
    "df_cusip = df_cusip.merge(df_tickers, left_on = 'ticker', right_on = 'ticker')\n",
    "\n",
    "ticker_list = df_cusip.sort_values(by = 'ticker')['ticker'].tolist()\n",
    "weight_list = df_cusip.sort_values(by = 'ticker')['target_weight'].tolist()\n",
    "cusip_list = \"'\" + \"','\".join(df_cusip['cusip'].tolist()) + \"'\"\n",
    "\n",
    "df_cusip"
   ]
  },
  {
   "cell_type": "markdown",
   "id": "bc624d37",
   "metadata": {},
   "source": [
    "Using the extracted CUSIP Numbers, we are querying data from this table in WRDS: [CRSP - Daily Stock Securities](https://wrds-www.wharton.upenn.edu/pages/get-data/center-research-security-prices-crsp/annual-update/stock-security-files/daily-stock-file/)."
   ]
  },
  {
   "cell_type": "code",
   "execution_count": 6,
   "id": "6bea55ac",
   "metadata": {},
   "outputs": [],
   "source": [
    "query_string = f\"\"\"SELECT * FROM crsp.dsf WHERE cusip IN ({cusip_list}) AND date >= '{start_date}' AND date <= '{end_date}' ORDER BY cusip, date\"\"\"\n",
    "df_etf_raw = db.raw_sql(query_string)"
   ]
  },
  {
   "cell_type": "markdown",
   "id": "a6712f7c",
   "metadata": {},
   "source": [
    "WRDS gives us the data in an ugly format, with bad column names and more information than we need. So we will clean it up below:"
   ]
  },
  {
   "cell_type": "code",
   "execution_count": 7,
   "id": "8fb88d68",
   "metadata": {},
   "outputs": [],
   "source": [
    "# Copy data to keep the orginal data source intact\n",
    "df_etf = df_etf_raw.copy() \n",
    "\n",
    "# This table in WRDS does not have ticker info so we merge the data with our previous cusip df to tack on the tickers\n",
    "df_etf = df_etf.merge(df_cusip, left_on = 'cusip', right_on = 'cusip') \n",
    "\n",
    "# We only care about these three columns\n",
    "df_etf = df_etf[['date','ticker','ret']] \n",
    "df_etf['date'] = pd.to_datetime(df_etf['date']) \n",
    "\n",
    "df_etf = df_etf.set_index('date')\n",
    "\n",
    "# Rename columns appropriately\n",
    "df_etf = df_etf.rename(columns={'ret':'return'}) "
   ]
  },
  {
   "cell_type": "markdown",
   "id": "b5f0df77",
   "metadata": {},
   "source": [
    "## Portfolio Statistics\n",
    "Now now that we have the data in a pretty format, we can calculate some summary statistics for each asset class. "
   ]
  },
  {
   "cell_type": "markdown",
   "id": "5ba52223",
   "metadata": {},
   "source": [
    "First, we add a few helper functions which we will apply to our returns dataframe to calculate those summary stats. For all the functions, they receive a series as input and will return one number as the output."
   ]
  },
  {
   "cell_type": "code",
   "execution_count": 8,
   "id": "eb856b46",
   "metadata": {},
   "outputs": [],
   "source": [
    "def daily_var_1(series:pd.Series):\n",
    "    \"\"\"\n",
    "    Calculate the the daily value at risk of the returns with a 1% threshold.\n",
    "    \"\"\"\n",
    "    return np.percentile(series, .01)\n",
    "\n",
    "\n",
    "def conditional_var_1(series:pd.Series):\n",
    "    \"\"\"\n",
    "    Calculate the average loss of returns, given that the 1% threshold has been breached.\n",
    "    \"\"\"\n",
    "    bottom_centile = series[series <= np.percentile(series, .01)]\n",
    "    return bottom_centile.mean()\n",
    "\n",
    "\n",
    "def max_draw_down(series:pd.Series):\n",
    "    \"\"\"\n",
    "    What is the largest peak to trough percentage decline of the returns.\n",
    "    \"\"\"\n",
    "    cumulative_returns = np.cumproduct((series + 1))\n",
    "    highest_value = 1\n",
    "    biggest_draw_down = 0\n",
    "    for port_value in cumulative_returns:\n",
    "        peak_to_trough_return = port_value/highest_value - 1\n",
    "        if peak_to_trough_return < biggest_draw_down:\n",
    "            biggest_draw_down = peak_to_trough_return\n",
    "        if port_value > highest_value:\n",
    "            highest_value = port_value\n",
    "\n",
    "    return biggest_draw_down\n",
    "\n",
    "\n",
    "def draw_down_days(series:pd.Series):\n",
    "    \"\"\"\n",
    "    What is the largest peak to trough percentage decline of the returns.\n",
    "    \"\"\"\n",
    "    cumulative_returns = np.cumproduct((series + 1))\n",
    "    highest_value = 1\n",
    "    biggest_draw_down = 0\n",
    "    peak_date = series.index[0]\n",
    "    draw_down_start_date = None # Initially the draw down start date will be the first date\n",
    "    draw_down_end_date = None\n",
    "\n",
    "    for date, port_value in zip(series.index, cumulative_returns):\n",
    "        peak_to_trough_return = port_value/highest_value - 1\n",
    "        if peak_to_trough_return < biggest_draw_down:\n",
    "            biggest_draw_down = peak_to_trough_return\n",
    "            draw_down_start_date = peak_date\n",
    "            draw_down_end_date = date\n",
    "\n",
    "        if port_value > highest_value: # Set the new highest portfolio value and draw_down_start_date\n",
    "            highest_value = port_value\n",
    "            peak_date = date\n",
    "\n",
    "    days_of_drawdown = (draw_down_end_date - draw_down_start_date)\n",
    "    return days_of_drawdown\n",
    "\n",
    "\n",
    "def downside_std(series:pd.Series):\n",
    "    \"\"\"\n",
    "    Standard deviation of negative returns only.\n",
    "    \"\"\"\n",
    "    mn = series.mean()\n",
    "    return np.sqrt(((series[series < 0] - mn)**2).sum() / len(series))\n",
    "\n",
    "\n",
    "def proportion_positive_returns(series:pd.Series):\n",
    "    \"\"\"\n",
    "    What percent of the daily portfolio returns are postive?\n",
    "    \"\"\"\n",
    "    return len(series[series>0])/len(series)\n",
    "\n",
    "\n",
    "def annualized_return(series:pd.Series):\n",
    "    \"\"\"\n",
    "    Calculate annualized returns\n",
    "    \"\"\"\n",
    "    return ((np.cumproduct(series + 1)**0.1)[-1] - 1)\n",
    "\n",
    "\n",
    "def calculate_portfolio_statistics(df_returns:pd.DataFrame) ->pd.DataFrame:\n",
    "    \"\"\"\n",
    "    This function is here to just aggregate all the relevant info and make it presentable.\n",
    "    \"\"\"\n",
    "\n",
    "    # Groupby ticker and get the statistics below.\n",
    "    summary_stats = df_returns.groupby(['ticker']).aggregate(['mean', 'std', 'skew',\n",
    "     kurtosis, daily_var_1, conditional_var_1, max_draw_down, draw_down_days, downside_std, \n",
    "                                                              proportion_positive_returns, annualized_return])\n",
    "\n",
    "    # Reset Column Indexes post groupby\n",
    "    summary_stats.columns = summary_stats.columns.get_level_values(1)\n",
    "\n",
    "    # Create a few new performance metrics based on the statistics above:\n",
    "    summary_stats['Annualized_Return'] = summary_stats['annualized_return']\n",
    "    summary_stats['Annualized_Std'] = summary_stats['std'] * 252**(0.5)\n",
    "    summary_stats['Sharpe_Ratio'] = summary_stats['Annualized_Return']/summary_stats['Annualized_Std']\n",
    "    summary_stats['Sortino_Ratio'] = summary_stats['Annualized_Return']/(summary_stats['downside_std'] * 252 ** (0.5))\n",
    "\n",
    "    # Make the df pretty:\n",
    "    summary_stats = summary_stats.drop(columns=['mean','std','downside_std','annualized_return'])\n",
    "    summary_stats.columns = [column.title() for column in summary_stats.columns]# Rearrange columns\n",
    "    \n",
    "    # Rearrange columns\n",
    "    summary_stats = summary_stats[['Annualized_Return','Annualized_Std','Sharpe_Ratio','Sortino_Ratio','Skew','Kurtosis',\n",
    "    'Daily_Var_1','Conditional_Var_1','Max_Draw_Down','Draw_Down_Days','Proportion_Positive_Returns']] \n",
    "    \n",
    "    # Rename columns\n",
    "    summary_stats.rename(columns = {'Annualized_Return':'Annualized Return',\n",
    "                                    'Annualized_Std': 'Annualized Standard Deviation',\n",
    "                                    'Sharpe_Ratio': 'Sharpe Ratio',\n",
    "                                    'Sortino_Ratio': 'Sortino Ratio',\n",
    "                                    'Daily_Var_1': 'Daily Value at Risk (1% Threshold)',\n",
    "                                    'Conditional_Var_1': 'Conditional Value at Risk (1% Threshold)',\n",
    "                                    'Max_Draw_Down': 'Maximum Drawdown',\n",
    "                                    'Draw_Down_Days': 'Maximum Drawdown Days',\n",
    "                                    'Proportion_Positive_Returns': 'Proportion of Positive Returns'}, inplace = True)\n",
    "    \n",
    "    return summary_stats.T"
   ]
  },
  {
   "cell_type": "markdown",
   "id": "ad722203",
   "metadata": {},
   "source": [
    "## Simulation Engine\n",
    "We now develop a simulation engine which will have the capacity to test out various strategies based on the chosen securities and their historical returns.\n",
    "The idea is that you can specify your rebalancing frequency, and any arbitrary trading strategy where the strategy is specified by a new function you create. This new function should receive as input a dateframe of security returns and return a pandas series where the index is the security tickers and the values are their weights. \n",
    "\n",
    "This strategy function is applied once every rebalancing date.\n",
    "\n",
    "See the example function \"target_portfolio_strategy\" a few cell below."
   ]
  },
  {
   "cell_type": "markdown",
   "id": "804f3ace",
   "metadata": {},
   "source": [
    "First, to make it easier on ourselves, we create a new dataframe where the tickers are the columns and each row represents the return for a specific day. This just saves us from having to do a bunch of annoying groupbys later on. This dataframe is also the input for the arbitrary strategy function you create."
   ]
  },
  {
   "cell_type": "code",
   "execution_count": 9,
   "id": "00453060",
   "metadata": {},
   "outputs": [],
   "source": [
    "# Pivot DataFrame to get Tickers as Columns\n",
    "df_returns = df_etf[['ticker','return']].pivot(columns = 'ticker').reset_index()\n",
    "\n",
    "# Pivot makes our column names multi-indexed. We want the sub-index\n",
    "df_returns.columns = df_returns.columns.get_level_values(1) \n",
    "df_returns = df_returns.rename(columns = {'':'date'}).set_index('date') "
   ]
  },
  {
   "cell_type": "markdown",
   "id": "d3822a0e",
   "metadata": {},
   "source": [
    "### Helper Functions\n",
    "\n",
    "The functions below carry out the following functions:\n",
    "* Calculate the correct Rebalancing Dates for your strategy\n",
    "* Calculate Target Portfolio based on input strategy function\n",
    "* Build Similated Portfolio based on target strategy"
   ]
  },
  {
   "cell_type": "code",
   "execution_count": 10,
   "id": "000017d1",
   "metadata": {},
   "outputs": [],
   "source": [
    "def get_rebalance_dates(df:pd.DataFrame, frequency='monthly'):\n",
    "    \"\"\"\n",
    "    Calculate rebalance dates based on the input frequency\n",
    "    \"\"\"\n",
    "    if frequency == 'monthly':\n",
    "        return get_end_of_month_dates(df)\n",
    "    elif frequency == 'daily':\n",
    "        return df.index.unique()\n",
    "    elif frequency == 'yearly':\n",
    "        return get_end_of_year_dates(df)\n",
    "\n",
    "    \n",
    "def get_end_of_month_dates(df:pd.DataFrame) -> pd.Series:\n",
    "    \"\"\"\n",
    "    Calculate last date in each month of the input series.\n",
    "    \"\"\"\n",
    "    # Keep the original DataFrame intact\n",
    "    df2 = df.copy().reset_index() \n",
    "    \n",
    "    # Create year and month columns which we use to group by in a second\n",
    "    df2['year'] = df2['date'].dt.year\n",
    "    df2['month'] = df2['date'].dt.month\n",
    "\n",
    "    # Group by the year, then the month and then grab the last date associated with each of those combinations in our data set\n",
    "    return df2.groupby(['year', 'month']).last()['date'].to_list()\n",
    "\n",
    "\n",
    "def get_end_of_year_dates(df:pd.DataFrame) -> pd.Series:\n",
    "    \"\"\"\n",
    "    Calculate last date in each year of the input series.\n",
    "    \"\"\"\n",
    "    # Keep the original DataFrame intact\n",
    "    df2 = df.copy().reset_index() \n",
    "    df2['year'] = df2['date'].dt.year\n",
    "    return df2.groupby('year').last()['date'].to_list()\n",
    "\n",
    "\n",
    "def target_portfolio_strategy(df_returns:pd.DataFrame):\n",
    "    \"\"\"\n",
    "    Calculate target weights based on the input strategy.\n",
    "    For the purpose of the project, the target weights are set to the mentioned values.\n",
    "    \"\"\"\n",
    "    strategy_weights = df_cusip[['ticker','target_weight']].set_index('ticker').sort_index()\n",
    "    strategy_weights.columns = ['weight']\n",
    "    return strategy_weights\n",
    "\n",
    "\n",
    "def simulate_portfolio_strategy(df_returns:pd.DataFrame, initial_weights, strategy_function, rebalance_frequency='monthly'):\n",
    "    \"\"\"\n",
    "    Build Simulated Portfolio based on input parameters\n",
    "    \"\"\"\n",
    "    \n",
    "    rebalance_dates =  get_rebalance_dates(df_returns, frequency=rebalance_frequency)\n",
    "    \n",
    "    # Get all the days in our simulated time period\n",
    "    date_list = list(df_returns.index.unique()) \n",
    "    \n",
    "    # The date before our start date, which will be first entry into portfolio dataframe\n",
    "    day_before_start = date_list[0] - pd.DateOffset(1) \n",
    "    \n",
    "    # Create dataframe to store portfolio values at each date\n",
    "    df_portfolio = pd.DataFrame(columns=ticker_list) \n",
    "    \n",
    "    # Starting wealth\n",
    "    initial_wealth = 100 \n",
    "\n",
    "    # Set the intial portfolio values\n",
    "    df_portfolio.loc[day_before_start] = (initial_weights * initial_wealth).T.values.flatten()\n",
    "\n",
    "    # This flag will be used when updated portfolio values below\n",
    "    previous_date = day_before_start \n",
    "\n",
    "    # Loop through all of the dates and calculate the value of the potfolio at each day. Rebalance when necessary.\n",
    "    for date in date_list:\n",
    "        \n",
    "        # Grab the security returns on that date\n",
    "        returns = df_returns.loc[date] \n",
    "        \n",
    "        # New, ending port values are the previous port values mutliplied by their respective returns\n",
    "        df_portfolio.loc[date] = df_portfolio.loc[previous_date] * (1 + returns) \n",
    "\n",
    "        # If you are on a rebalance date, then rebalance at the end of today back to your target or strategy weights\n",
    "        # This will overwrite the wealths above, but it will still incoporate the returns earned for the day\n",
    "        if date in rebalance_dates:\n",
    "            # Apply the strategy function to get the appropriate weights. The strategy function will only receive the information from all previous days.\n",
    "            strategy_weights = strategy_function(df_returns[df_returns.index <= date]) \n",
    "            rebalanced_wealths = (df_portfolio.loc[date].sum() * strategy_weights).T.values.flatten()\n",
    "            df_portfolio.loc[date] = rebalanced_wealths\n",
    "        \n",
    "        # Update this for the next loop\n",
    "        previous_date = date \n",
    "\n",
    "    df_portfolio['wealth'] = df_portfolio.sum(axis=1)\n",
    "    df_portfolio['returns'] = df_portfolio['wealth'].pct_change()\n",
    "    df_portfolio['cum_returns'] = np.cumproduct(1 + df_portfolio['returns'])\n",
    "\n",
    "    return df_portfolio"
   ]
  },
  {
   "cell_type": "markdown",
   "id": "dd0a5d72",
   "metadata": {},
   "source": [
    "### Target Portfolio Performance\n",
    "Below we simulate the results where our strategy is to simply rebalance back to our target weights every month, day or year, depending on the input frequency. The resulting dataframe contains columns where the values are the dollar amount of the security."
   ]
  },
  {
   "cell_type": "code",
   "execution_count": 11,
   "id": "22ea147b",
   "metadata": {},
   "outputs": [],
   "source": [
    "initial_weights = target_portfolio_strategy(df_returns)\n",
    "target_portfolio_df = simulate_portfolio_strategy(df_returns, initial_weights=initial_weights, strategy_function=target_portfolio_strategy, rebalance_frequency=target_frequency)"
   ]
  },
  {
   "cell_type": "markdown",
   "id": "15b61181",
   "metadata": {},
   "source": [
    "## Finding the portfolio with the highest Sharpe Ratio\n",
    "The approach we use to find the highest sharpe ratio portfolio is a Monte Carlo simulation. We randomly sample a large amount of weights, calculate the expected return and variance for each portfolio and finally select the portfolio with the highest Sharpe Ratio.  "
   ]
  },
  {
   "cell_type": "code",
   "execution_count": 12,
   "id": "ef37b488",
   "metadata": {},
   "outputs": [],
   "source": [
    "def calculate_annualized_port_std(weights, cov_matrix) -> float:\n",
    "    \"\"\"\n",
    "    Calculate the annualized portfolio standard deviation\n",
    "    \"\"\"\n",
    "    var = weights.dot(cov_matrix).dot(weights)\n",
    "    std = np.sqrt(252*var)\n",
    "    return std"
   ]
  },
  {
   "cell_type": "code",
   "execution_count": 13,
   "id": "9d3ab891",
   "metadata": {},
   "outputs": [],
   "source": [
    "# Covariance Matrix for daily returns\n",
    "cov_matrix = df_returns.cov()\n",
    "\n",
    "# Individual Asset Returns\n",
    "annualized_returns = df_returns.mean() * 252\n",
    "\n",
    "simulation_count = 1_000_000\n",
    "\n",
    "# Matix where each row contains simulated port weights\n",
    "simulated_weights = np.random.uniform(size=(simulation_count,len(ticker_list))) \n",
    "\n",
    "# Normalize them so they add up to 1\n",
    "port_weights_matrix = simulated_weights/simulated_weights.sum(axis=1)[:,np.newaxis] \n",
    "\n",
    "# Filter out any portfolios with a weight greater than 45 %\n",
    "condition_mask = ~np.any(port_weights_matrix > .45, axis=1) \n",
    "port_weights_matrix = port_weights_matrix[condition_mask]\n",
    "\n",
    "# Dataframe to store port info\n",
    "simulated_ports_df = pd.DataFrame(data=port_weights_matrix,columns=[f'Weight ({ticker})' for ticker in ticker_list]) \n",
    "simulated_ports_df['Returns'] = port_weights_matrix @ annualized_returns \n",
    "simulated_ports_df['Risk'] = [calculate_annualized_port_std(port_weights,cov_matrix=cov_matrix) for port_weights in port_weights_matrix]\n",
    "simulated_ports_df['Sharpe_Ratio'] = simulated_ports_df['Returns']/simulated_ports_df['Risk']\n",
    "\n",
    "# Sort by highest sharpe ratio\n",
    "simulated_ports_df = simulated_ports_df.sort_values('Sharpe_Ratio', ascending=False) \n",
    "optimal_portfolio = simulated_ports_df.head(1)"
   ]
  },
  {
   "cell_type": "markdown",
   "id": "3026f6a2",
   "metadata": {},
   "source": [
    "The portfolio weights with the highest Sharpe Ratio is displayed below:"
   ]
  },
  {
   "cell_type": "code",
   "execution_count": 14,
   "id": "f382fd9a",
   "metadata": {},
   "outputs": [
    {
     "data": {
      "text/html": [
       "<div>\n",
       "<style scoped>\n",
       "    .dataframe tbody tr th:only-of-type {\n",
       "        vertical-align: middle;\n",
       "    }\n",
       "\n",
       "    .dataframe tbody tr th {\n",
       "        vertical-align: top;\n",
       "    }\n",
       "\n",
       "    .dataframe thead th {\n",
       "        text-align: right;\n",
       "    }\n",
       "</style>\n",
       "<table border=\"1\" class=\"dataframe\">\n",
       "  <thead>\n",
       "    <tr style=\"text-align: right;\">\n",
       "      <th></th>\n",
       "      <th>464584</th>\n",
       "    </tr>\n",
       "  </thead>\n",
       "  <tbody>\n",
       "    <tr>\n",
       "      <th>Weight (DBC)</th>\n",
       "      <td>0.000013</td>\n",
       "    </tr>\n",
       "    <tr>\n",
       "      <th>Weight (IEI)</th>\n",
       "      <td>0.447425</td>\n",
       "    </tr>\n",
       "    <tr>\n",
       "      <th>Weight (IGOV)</th>\n",
       "      <td>0.296650</td>\n",
       "    </tr>\n",
       "    <tr>\n",
       "      <th>Weight (VEA)</th>\n",
       "      <td>0.002894</td>\n",
       "    </tr>\n",
       "    <tr>\n",
       "      <th>Weight (VTI)</th>\n",
       "      <td>0.253017</td>\n",
       "    </tr>\n",
       "  </tbody>\n",
       "</table>\n",
       "</div>"
      ],
      "text/plain": [
       "                 464584\n",
       "Weight (DBC)   0.000013\n",
       "Weight (IEI)   0.447425\n",
       "Weight (IGOV)  0.296650\n",
       "Weight (VEA)   0.002894\n",
       "Weight (VTI)   0.253017"
      ]
     },
     "execution_count": 14,
     "metadata": {},
     "output_type": "execute_result"
    }
   ],
   "source": [
    "optimal_portfolio.iloc[:, [0,1,2,3,4]].T"
   ]
  },
  {
   "cell_type": "markdown",
   "id": "6c7609be",
   "metadata": {},
   "source": [
    "### Efficient Frontier Plot"
   ]
  },
  {
   "cell_type": "code",
   "execution_count": 15,
   "id": "489a79c3",
   "metadata": {},
   "outputs": [
    {
     "data": {
      "image/png": "[encoded data removed]",
      "text/plain": [
       "<Figure size 576x576 with 1 Axes>"
      ]
     },
     "metadata": {},
     "output_type": "display_data"
    }
   ],
   "source": [
    "plt.figure(figsize = (8,8))\n",
    "plt.scatter(simulated_ports_df['Risk'], simulated_ports_df['Returns'], label = 'Feasible Set') \n",
    "plt.scatter(optimal_portfolio['Risk'], optimal_portfolio['Returns'], s = 200, label = 'Optimal Portfolio')\n",
    "\n",
    "cal_line_slope = optimal_portfolio['Sharpe_Ratio'].iloc[0]\n",
    "cal_line_x_vals = np.arange(0, np.max(simulated_ports_df['Risk']) + .005, .0001) # Generate risk inputs so that we can plot CAL\n",
    "\n",
    "plt.plot(cal_line_x_vals, cal_line_x_vals*cal_line_slope, label='CAL', color='red')\n",
    "\n",
    "plt.legend()\n",
    "plt.title('Efficient Frontier')\n",
    "plt.xlabel('Risk')\n",
    "plt.ylabel('Returns')\n",
    "plt.show()"
   ]
  },
  {
   "cell_type": "markdown",
   "id": "ff0bab07",
   "metadata": {},
   "source": [
    "## Optimal Portfolio Performance\n",
    "Now we can run this optimal portfolio through our simulation engine to see how it actually performs."
   ]
  },
  {
   "cell_type": "code",
   "execution_count": 16,
   "id": "af001e97",
   "metadata": {},
   "outputs": [],
   "source": [
    "def optimal_port_strategy(df_returns:pd.DataFrame):\n",
    "    \"\"\"\n",
    "    Set the strategy for the optimal portfolio, i.e., the weights calculated through the Monte Carlo simulation.\n",
    "    \"\"\"\n",
    "    optimal_weights = optimal_portfolio.iloc[0,:len(ticker_list)]\n",
    "    optimal_weights.index = ticker_list\n",
    "    return optimal_weights\n",
    "\n",
    "\n",
    "optimal_weights = optimal_port_strategy(df_returns)\n",
    "optimal_portfolio_df = simulate_portfolio_strategy(df_returns, initial_weights=optimal_weights, strategy_function=optimal_port_strategy, rebalance_frequency=target_frequency)"
   ]
  },
  {
   "cell_type": "markdown",
   "id": "899d60de",
   "metadata": {},
   "source": [
    "## Performance Comparison of Target Portfolio vs Optimal Portfolio vs Individual ETFs"
   ]
  },
  {
   "cell_type": "markdown",
   "id": "821a0f85",
   "metadata": {},
   "source": [
    "### Portfolio Statistics"
   ]
  },
  {
   "cell_type": "code",
   "execution_count": 17,
   "id": "3acbc12d",
   "metadata": {},
   "outputs": [],
   "source": [
    "# Arrange ETF and Portfolio DataFrames in same order and append for Portfolio Statistics\n",
    "df_tgt = target_portfolio_df[['returns']].rename(columns = {'returns':'return'})[1:]\n",
    "df_tgt.insert(0, 'ticker', 'Target Portfolio')\n",
    "\n",
    "df_opt = optimal_portfolio_df[['returns']].rename(columns = {'returns':'return'})[1:]\n",
    "df_opt.insert(0, 'ticker', 'Optimal Portfolio')\n",
    "\n",
    "df_all = df_etf.append(df_tgt).append(df_opt)"
   ]
  },
  {
   "cell_type": "code",
   "execution_count": 18,
   "id": "230b48b4",
   "metadata": {
    "scrolled": false
   },
   "outputs": [
    {
     "data": {
      "text/html": [
       "<div>\n",
       "<style scoped>\n",
       "    .dataframe tbody tr th:only-of-type {\n",
       "        vertical-align: middle;\n",
       "    }\n",
       "\n",
       "    .dataframe tbody tr th {\n",
       "        vertical-align: top;\n",
       "    }\n",
       "\n",
       "    .dataframe thead th {\n",
       "        text-align: right;\n",
       "    }\n",
       "</style>\n",
       "<table border=\"1\" class=\"dataframe\">\n",
       "  <thead>\n",
       "    <tr style=\"text-align: right;\">\n",
       "      <th>ticker</th>\n",
       "      <th>DBC</th>\n",
       "      <th>IEI</th>\n",
       "      <th>IGOV</th>\n",
       "      <th>VEA</th>\n",
       "      <th>VTI</th>\n",
       "      <th>Target Portfolio</th>\n",
       "      <th>Optimal Portfolio</th>\n",
       "    </tr>\n",
       "  </thead>\n",
       "  <tbody>\n",
       "    <tr>\n",
       "      <th>Annualized Return</th>\n",
       "      <td>-0.056404</td>\n",
       "      <td>0.029328</td>\n",
       "      <td>0.019766</td>\n",
       "      <td>0.059081</td>\n",
       "      <td>0.137654</td>\n",
       "      <td>0.061403</td>\n",
       "      <td>0.055471</td>\n",
       "    </tr>\n",
       "    <tr>\n",
       "      <th>Annualized Standard Deviation</th>\n",
       "      <td>0.159661</td>\n",
       "      <td>0.030485</td>\n",
       "      <td>0.078033</td>\n",
       "      <td>0.187952</td>\n",
       "      <td>0.175693</td>\n",
       "      <td>0.104547</td>\n",
       "      <td>0.049828</td>\n",
       "    </tr>\n",
       "    <tr>\n",
       "      <th>Sharpe Ratio</th>\n",
       "      <td>-0.353275</td>\n",
       "      <td>0.962048</td>\n",
       "      <td>0.2533</td>\n",
       "      <td>0.314342</td>\n",
       "      <td>0.78349</td>\n",
       "      <td>0.587326</td>\n",
       "      <td>1.113245</td>\n",
       "    </tr>\n",
       "    <tr>\n",
       "      <th>Sortino Ratio</th>\n",
       "      <td>-0.478523</td>\n",
       "      <td>1.374306</td>\n",
       "      <td>0.351455</td>\n",
       "      <td>0.41663</td>\n",
       "      <td>1.053201</td>\n",
       "      <td>0.778169</td>\n",
       "      <td>1.51873</td>\n",
       "    </tr>\n",
       "    <tr>\n",
       "      <th>Skew</th>\n",
       "      <td>-0.546755</td>\n",
       "      <td>0.126827</td>\n",
       "      <td>-0.175788</td>\n",
       "      <td>-1.020486</td>\n",
       "      <td>-0.674023</td>\n",
       "      <td>-1.052182</td>\n",
       "      <td>-0.595636</td>\n",
       "    </tr>\n",
       "    <tr>\n",
       "      <th>Kurtosis</th>\n",
       "      <td>3.839162</td>\n",
       "      <td>2.508051</td>\n",
       "      <td>1.8744</td>\n",
       "      <td>12.383283</td>\n",
       "      <td>15.432661</td>\n",
       "      <td>12.254021</td>\n",
       "      <td>8.759378</td>\n",
       "    </tr>\n",
       "    <tr>\n",
       "      <th>Daily Value at Risk (1% Threshold)</th>\n",
       "      <td>-0.075113</td>\n",
       "      <td>-0.010253</td>\n",
       "      <td>-0.022912</td>\n",
       "      <td>-0.1109</td>\n",
       "      <td>-0.109638</td>\n",
       "      <td>-0.062357</td>\n",
       "      <td>-0.027815</td>\n",
       "    </tr>\n",
       "    <tr>\n",
       "      <th>Conditional Value at Risk (1% Threshold)</th>\n",
       "      <td>-0.077844</td>\n",
       "      <td>-0.010951</td>\n",
       "      <td>-0.02298</td>\n",
       "      <td>-0.111803</td>\n",
       "      <td>-0.113809</td>\n",
       "      <td>-0.062503</td>\n",
       "      <td>-0.029328</td>\n",
       "    </tr>\n",
       "    <tr>\n",
       "      <th>Maximum Drawdown</th>\n",
       "      <td>-0.661409</td>\n",
       "      <td>-0.044884</td>\n",
       "      <td>-0.157839</td>\n",
       "      <td>-0.357344</td>\n",
       "      <td>-0.350003</td>\n",
       "      <td>-0.222669</td>\n",
       "      <td>-0.091484</td>\n",
       "    </tr>\n",
       "    <tr>\n",
       "      <th>Maximum Drawdown Days</th>\n",
       "      <td>3307 days 00:00:00</td>\n",
       "      <td>680 days 00:00:00</td>\n",
       "      <td>497 days 00:00:00</td>\n",
       "      <td>787 days 00:00:00</td>\n",
       "      <td>33 days 00:00:00</td>\n",
       "      <td>66 days 00:00:00</td>\n",
       "      <td>19 days 00:00:00</td>\n",
       "    </tr>\n",
       "    <tr>\n",
       "      <th>Proportion of Positive Returns</th>\n",
       "      <td>0.500794</td>\n",
       "      <td>0.524623</td>\n",
       "      <td>0.517077</td>\n",
       "      <td>0.534154</td>\n",
       "      <td>0.555997</td>\n",
       "      <td>0.54448</td>\n",
       "      <td>0.548451</td>\n",
       "    </tr>\n",
       "  </tbody>\n",
       "</table>\n",
       "</div>"
      ],
      "text/plain": [
       "ticker                                                   DBC  \\\n",
       "Annualized Return                                  -0.056404   \n",
       "Annualized Standard Deviation                       0.159661   \n",
       "Sharpe Ratio                                       -0.353275   \n",
       "Sortino Ratio                                      -0.478523   \n",
       "Skew                                               -0.546755   \n",
       "Kurtosis                                            3.839162   \n",
       "Daily Value at Risk (1% Threshold)                 -0.075113   \n",
       "Conditional Value at Risk (1% Threshold)           -0.077844   \n",
       "Maximum Drawdown                                   -0.661409   \n",
       "Maximum Drawdown Days                     3307 days 00:00:00   \n",
       "Proportion of Positive Returns                      0.500794   \n",
       "\n",
       "ticker                                                  IEI  \\\n",
       "Annualized Return                                  0.029328   \n",
       "Annualized Standard Deviation                      0.030485   \n",
       "Sharpe Ratio                                       0.962048   \n",
       "Sortino Ratio                                      1.374306   \n",
       "Skew                                               0.126827   \n",
       "Kurtosis                                           2.508051   \n",
       "Daily Value at Risk (1% Threshold)                -0.010253   \n",
       "Conditional Value at Risk (1% Threshold)          -0.010951   \n",
       "Maximum Drawdown                                  -0.044884   \n",
       "Maximum Drawdown Days                     680 days 00:00:00   \n",
       "Proportion of Positive Returns                     0.524623   \n",
       "\n",
       "ticker                                                 IGOV  \\\n",
       "Annualized Return                                  0.019766   \n",
       "Annualized Standard Deviation                      0.078033   \n",
       "Sharpe Ratio                                         0.2533   \n",
       "Sortino Ratio                                      0.351455   \n",
       "Skew                                              -0.175788   \n",
       "Kurtosis                                             1.8744   \n",
       "Daily Value at Risk (1% Threshold)                -0.022912   \n",
       "Conditional Value at Risk (1% Threshold)           -0.02298   \n",
       "Maximum Drawdown                                  -0.157839   \n",
       "Maximum Drawdown Days                     497 days 00:00:00   \n",
       "Proportion of Positive Returns                     0.517077   \n",
       "\n",
       "ticker                                                  VEA               VTI  \\\n",
       "Annualized Return                                  0.059081          0.137654   \n",
       "Annualized Standard Deviation                      0.187952          0.175693   \n",
       "Sharpe Ratio                                       0.314342           0.78349   \n",
       "Sortino Ratio                                       0.41663          1.053201   \n",
       "Skew                                              -1.020486         -0.674023   \n",
       "Kurtosis                                          12.383283         15.432661   \n",
       "Daily Value at Risk (1% Threshold)                  -0.1109         -0.109638   \n",
       "Conditional Value at Risk (1% Threshold)          -0.111803         -0.113809   \n",
       "Maximum Drawdown                                  -0.357344         -0.350003   \n",
       "Maximum Drawdown Days                     787 days 00:00:00  33 days 00:00:00   \n",
       "Proportion of Positive Returns                     0.534154          0.555997   \n",
       "\n",
       "ticker                                    Target Portfolio Optimal Portfolio  \n",
       "Annualized Return                                 0.061403          0.055471  \n",
       "Annualized Standard Deviation                     0.104547          0.049828  \n",
       "Sharpe Ratio                                      0.587326          1.113245  \n",
       "Sortino Ratio                                     0.778169           1.51873  \n",
       "Skew                                             -1.052182         -0.595636  \n",
       "Kurtosis                                         12.254021          8.759378  \n",
       "Daily Value at Risk (1% Threshold)               -0.062357         -0.027815  \n",
       "Conditional Value at Risk (1% Threshold)         -0.062503         -0.029328  \n",
       "Maximum Drawdown                                 -0.222669         -0.091484  \n",
       "Maximum Drawdown Days                     66 days 00:00:00  19 days 00:00:00  \n",
       "Proportion of Positive Returns                     0.54448          0.548451  "
      ]
     },
     "execution_count": 18,
     "metadata": {},
     "output_type": "execute_result"
    }
   ],
   "source": [
    "# List of Column Names to rearrange DataFrame\n",
    "column_list = ticker_list.copy()\n",
    "column_list.extend(['Target Portfolio', 'Optimal Portfolio'])\n",
    "\n",
    "# Rearrange Portfolio statistics Result\n",
    "df_port_stats = calculate_portfolio_statistics(df_all)[column_list]\n",
    "df_port_stats"
   ]
  },
  {
   "cell_type": "markdown",
   "id": "b606707e",
   "metadata": {},
   "source": [
    "As can be seen from the table, the Optimal Portfolio has the highest Sharpe Ratio. It has similar annualized returns to the Target Portfolio; however, it has a much lower annualized standard deviation compared to the Target Portfolio."
   ]
  },
  {
   "cell_type": "markdown",
   "id": "885afff7",
   "metadata": {},
   "source": [
    "### Cumulative Returns Plot over 10 Years"
   ]
  },
  {
   "cell_type": "code",
   "execution_count": 19,
   "id": "d23025fc",
   "metadata": {},
   "outputs": [],
   "source": [
    "# Creating a cumulative wealth return for all the assets where the starting wealth is $100\n",
    "\n",
    "df_returns_cumulative = (df_returns+ 1).cumprod() * 100\n",
    "day_before_start = df_returns_cumulative.index[0] - pd.DateOffset(1) \n",
    "initial_wealth_row = pd.DataFrame(data=np.array([[100]*len(ticker_list)]), columns=df_returns_cumulative.columns, index=[day_before_start])\n",
    "df_returns_cumulative = pd.concat([initial_wealth_row,df_returns_cumulative])"
   ]
  },
  {
   "cell_type": "markdown",
   "id": "1583bdfa",
   "metadata": {},
   "source": [
    "We now plot the Cumulative Returns of all ETFs and the two Portfolios to compare their Performance over 10 years"
   ]
  },
  {
   "cell_type": "code",
   "execution_count": 20,
   "id": "2f3226de",
   "metadata": {},
   "outputs": [
    {
     "data": {
      "image/png": "[encoded data removed]",
      "text/plain": [
       "<Figure size 1080x504 with 1 Axes>"
      ]
     },
     "metadata": {},
     "output_type": "display_data"
    }
   ],
   "source": [
    "# Plot Cumulative Returns for each ETF, Target Portfolio, and Optimal Portfolio\n",
    "plt.figure(figsize = (15,7))\n",
    "\n",
    "plt.plot(df_returns_cumulative['VTI'], label = 'VTI (U.S. Market)')\n",
    "plt.plot(df_returns_cumulative['VEA'], label = 'VEA (International Market)')\n",
    "plt.plot(df_returns_cumulative['IEI'], label = 'IEI (U.S. Bonds)')\n",
    "plt.plot(df_returns_cumulative['IGOV'], label = 'IGOV (International Bonds)')\n",
    "plt.plot(df_returns_cumulative['DBC'], label = 'DBC (Commodity)')\n",
    "\n",
    "plt.plot(target_portfolio_df['wealth'], linewidth = 2, label = 'Target Portfolio')\n",
    "plt.plot(optimal_portfolio_df['wealth'], linewidth = 2, label = 'Optimal Portfolio')\n",
    "plt.title('Performance over 10 Years')\n",
    "plt.ylabel('Value')\n",
    "plt.xlabel('Date')\n",
    "plt.legend()\n",
    "plt.show()"
   ]
  },
  {
   "cell_type": "markdown",
   "id": "85dcba77",
   "metadata": {},
   "source": [
    "The Optimal Portfolio, as previously discussed, has similar returns compared to the Target Portfolio, but with much lower risk. "
   ]
  }
 ],
 "metadata": {
  "interpreter": {
   "hash": "2647ea34e536f865ab67ff9ddee7fd78773d956cec0cab53c79b32cd10da5d83"
  },
  "kernelspec": {
   "display_name": "Python 3",
   "language": "python",
   "name": "python3"
  },
  "language_info": {
   "codemirror_mode": {
    "name": "ipython",
    "version": 3
   },
   "file_extension": ".py",
   "mimetype": "text/x-python",
   "name": "python",
   "nbconvert_exporter": "python",
   "pygments_lexer": "ipython3",
   "version": "3.8.8"
  }
 },
 "nbformat": 4,
 "nbformat_minor": 5
}
